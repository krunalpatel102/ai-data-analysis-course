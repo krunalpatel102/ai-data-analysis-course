{
 "cells": [
  {
   "cell_type": "markdown",
   "id": "0fe83b41-d3ea-4a79-9d55-3b2f5347d719",
   "metadata": {
    "editable": true,
    "slideshow": {
     "slide_type": ""
    },
    "tags": []
   },
   "source": [
    "# Takeout: Download this Workspace and the Datasets"
   ]
  },
  {
   "cell_type": "markdown",
   "id": "6532bb73-5736-4acd-8ba7-b726e357716e",
   "metadata": {},
   "source": [
    "If you're new to coding, one of the most frustrating things is the time and learning curve to setting up your own environment. That's why this little guide is here for you. By the end of this tutorial, you'll have replicated this cozy little data analysis environment on your own machine—giving you the freedom to explore datasets and expand your programming skills at your own pace."
   ]
  },
  {
   "cell_type": "markdown",
   "id": "8e77f593-dfad-4da8-a3cd-8ff64d42f38a",
   "metadata": {},
   "source": [
    "## Understanding Your Workspace\n",
    "\n",
    "You are currently working within a **Jupyter Notebook (.ipynb)**, which is part of the broader **JupyterLab** application. JupyterLab acts as a powerful interface where you can manage notebook documents, as well as other files and workflows.\n",
    "\n",
    "Here, **Python** is our primary language. Occasionally, you'll see code cells prefixed with `%`, known as \"magic commands.\" For instance, `%run script.py` executes an external Python script within your notebook, seamlessly integrating it into your workflow."
   ]
  },
  {
   "cell_type": "markdown",
   "id": "e3a3fd4e-16b3-4360-9ce6-344af83bd114",
   "metadata": {},
   "source": [
    "### Vocab\n",
    "::::{grid} 3 3 3\n",
    "\n",
    ":::{card}\n",
    ":header: **Programming Languages** 🖥️\n",
    "Like Python and R, you use them to write code and analyze data.\n",
    ":::\n",
    "\n",
    ":::{card}\n",
    ":header: **File Types** 📄\n",
    "Such as Jupyter Notebooks (.ipynb), these determine how your scripts and notes are saved and interacted with.\n",
    ":::\n",
    "\n",
    ":::{card}\n",
    ":header: **Applications** 🛠️\n",
    "Environments like JupyterLab or VSCode, where you run and manage your code.\n",
    ":::\n",
    "\n",
    "::::\n",
    "\n"
   ]
  },
  {
   "cell_type": "markdown",
   "id": "fe2baee4-b2d0-459a-8ef9-8bdff83f04ec",
   "metadata": {},
   "source": [
    "## Setting Up Your Own Environment\n",
    "If you've enjoyed working in this setup and want to continue beyond this course, setting up your own environment is the next step. Dedicated programming courses often cover specific applications and settings for the programming language they're teaching. I would **highly recommend** you go do one when you can! But if you want to keep the momentum, here's a quick guide to get you started with your own JupyterLab setup.\n",
    "\n",
    "And since this is a course on how to leverage AI for data analysis, I've included some suggested AI prompts to further guide you in the process. "
   ]
  },
  {
   "cell_type": "markdown",
   "id": "c0c02859-38fe-468a-81c7-f5cebfc26f8c",
   "metadata": {
    "editable": true,
    "slideshow": {
     "slide_type": ""
    },
    "tags": []
   },
   "source": [
    "#### Step-by-Step Setup Guide\n",
    "\n",
    "1. **Accessing the Command Line**:\n",
    "::::{tab-set}\n",
    "\n",
    ":::{tab-item} Windows\n",
    ":sync: tab-windows\n",
    "#####\n",
    "Search for \"Command Prompt\" in your start menu, or press `Win + R`, type `cmd`, and hit enter.\n",
    "\n",
    ":::\n",
    "\n",
    ":::{tab-item} Mac\n",
    ":sync: tab-mac\n",
    "#####\n",
    "Open \"Terminal\" by going to Applications -> Utilities -> Terminal. You can also search for it using Spotlight by pressing `Cmd + Space` and typing \"Terminal\".\n",
    "\n",
    ":::\n",
    "\n",
    ":::{tab-item} Linux\n",
    ":sync: tab-linux\n",
    "#####\n",
    "Typically, you can access the terminal by pressing `Ctrl + Alt + T` or by searching for \"Terminal\" in your system’s applications menu.\n",
    "\n",
    ":::\n",
    "\n",
    "::::\n",
    "\n",
    ":::{hint} Example prompt:\n",
    ">How do I open the command line on {insert Operating System here}?\n",
    ">\n",
    ":::"
   ]
  },
  {
   "cell_type": "markdown",
   "id": "1c3a93da-0bca-46ea-915f-e881c413f3ac",
   "metadata": {},
   "source": [
    "2. **Check for Git**:\n",
    "   Once your command line or terminal is open, check if you have Git installed by typing the following and then pressing Enter:\n",
    "   ```bash\n",
    "   git --version\n",
    "   ```\n",
    "   If the terminal shows a version number, Git is installed. If not, you’ll need to install it.\n",
    "\n",
    ":::{hint} Example prompt:\n",
    ">How can I check if Git is installed on my system?\n",
    ">\n",
    ":::"
   ]
  },
  {
   "cell_type": "markdown",
   "id": "1c765d89-2200-4d20-aa54-498073083d52",
   "metadata": {},
   "source": [
    "3. **Install Git (if necessary)**:\n",
    "   - If you don't have Git, download and install it from [git-scm.com](https://git-scm.com/downloads). Follow the instructions on the website for your operating system.\n",
    "  \n",
    ":::{hint} Example prompt:\n",
    ">How do I install Git on {insert Operating System}?\n",
    ">\n",
    ":::"
   ]
  },
  {
   "cell_type": "markdown",
   "id": "8858e0e3-384e-4231-ab5b-e5286ec74d76",
   "metadata": {},
   "source": [
    "4. **Install Anaconda or Miniconda**:\n",
    "   - Download and install either Anaconda or Miniconda:\n",
    "     - [Anaconda](https://www.anaconda.com/products/distribution) (**recommended for novices**: comes with beginner friendly interface *Anaconda Navigator*)\n",
    "     - [Miniconda](https://docs.conda.io/en/latest/miniconda.html) (*option for advanced users*: lighter version,  no graphical user interface)\n",
    "   Follow the installation guides on their respective websites, suitable for your OS.\n",
    "\n",
    ":::{hint} Example prompts:\n",
    "> What is the difference between Anaconda and Miniconda, and which should I install for my Python projects?\n",
    "\n",
    "Or, more advanced:\n",
    "> What's an alternative to conda for managing python packages and environments?\n",
    ":::"
   ]
  },
  {
   "cell_type": "markdown",
   "id": "e226d277-52bb-4528-a973-89e8ed94a3bc",
   "metadata": {
    "editable": true,
    "slideshow": {
     "slide_type": ""
    },
    "tags": []
   },
   "source": [
    "5. **Clone the Repository**:\n",
    "   \n",
    "Navigate back to your terminal. It's a good idea to keep all your GitHub projects in one place. You can create a directory (folder) called `GitHub` and make it a habit to clone any projects there.\n",
    "\t\n",
    "Type the following commands in your terminal to make a GitHub folder in your home directory and change to that directory:\n",
    "```bash\n",
    "cd ~\n",
    "mkdir GitHub\n",
    "cd GitHub\n",
    "\n",
    "```\n",
    "\n",
    "Now you can clone the directory from GitHub.\n",
    "\n",
    "Type the following in your terminal and press Enter:\n",
    "```bash\n",
    "git clone https://github.com/lasisilab/ai-data-analysis-course.git\n",
    "cd ai-data-analysis-course\n",
    "```\n",
    "\n",
    ":::{hint} **Example prompt:** \n",
    "If you don't see yourself primarily using the commandline for this purpose in the future, I highly recommend [GitHub Desktop](https://github.com/apps/desktop) as a nice app with a good interface to deal with all your git-related needs. If you need more guidance on setup, AI is your friend:\n",
    "\n",
    "> What's the pros and cons of using GitHub Desktop? And how do I set it up on my computer?\n",
    ">\n",
    ":::"
   ]
  },
  {
   "cell_type": "markdown",
   "id": "36dacdd7-b84e-4015-8235-ca0efe1c83c9",
   "metadata": {},
   "source": [
    "6. **Create and Activate Your Environment**:\n",
    "\n",
    "   There are different versions of python and there are different versions of many of the Python packages that you can run. To avoid issues, people tend to create separate virtual environments to run different projects in. That way, when you make a project, all the settings you used to run it can be frozen and replicated exactly.\n",
    "   For this course, we have saved those settings in an environment.yml file.\n",
    "   Now, create a conda environment using the `environment.yml` file by typing this into the command line:\n",
    "   ```bash\n",
    "   conda env create -f environment.yml -n ai-data-course-env\n",
    "   conda activate ai-data-course-env\n",
    "   ```\n",
    "\tIn the future, if you want to use it again, you'll have to type in:\n",
    "\n",
    "   ```bash\n",
    "   conda activate ai-data-course-env\n",
    "   ```\n",
    "\tIf you are done with it and/or need to set up a separate environment, you'll want to deactivate it with:\n",
    "\n",
    "   ```bash\n",
    "   conda deactivate\n",
    "   ```\n",
    "   Don't do this yet, though! We still want to start up the JupyterLab workspace!"
   ]
  },
  {
   "cell_type": "markdown",
   "id": "2723267b-3bfb-406a-b6c2-4c48ac24b427",
   "metadata": {},
   "source": [
    ":::{hint}\n",
    "\n",
    "You can use GenAI to tweak your command line interface. As someone who uses Terminal (MacOS), I have used it to edit my bash_profile, which configures the interface I use. You can get some help with that by asking:\n",
    "\n",
    "> How can I change the appearance of my command line interface?\n",
    "\n",
    "It's also a good idea to keep an eye on where things get downloaded. There are many ways to deal with python versions, environments, and packages. It's easy to get multiple versions of things and have them conflict. Consider periodically checking in with:\n",
    "\n",
    "> How can I find out where my python versions/environments/packages are on my machine?\n",
    "\n",
    ":::"
   ]
  },
  {
   "cell_type": "markdown",
   "id": "9253ce85-1015-4fa7-8676-bacea5f81c98",
   "metadata": {},
   "source": [
    "7. **Launch JupyterLab**:\n",
    "   With the environment activated, you can start JupyterLab by typing:\n",
    "   ```bash\n",
    "   jupyter lab\n",
    "   ```\n",
    "   This will open JupyterLab in your default web browser, where you can start exploring your notebooks.\n"
   ]
  },
  {
   "cell_type": "markdown",
   "id": "a22eebaa-b629-4e5c-a1e2-c08f49e3e7b6",
   "metadata": {},
   "source": [
    "# Save and Share "
   ]
  },
  {
   "cell_type": "markdown",
   "id": "e58e36ca-14b3-4826-b55c-5117c364024c",
   "metadata": {
    "editable": true,
    "slideshow": {
     "slide_type": ""
    },
    "tags": []
   },
   "source": [
    "Now that you've gone through this, you can have your first attempt at sharing a GitHub repo. I recommend you edit and run the code below on your version of this notebook instead of the course's.\n",
    "\n",
    ":::{danger} Pause here!\n",
    "\n",
    "Pause here and continue on your personal JupyterLab version of this notebook (`Lab-Module-3.ipynb`).\n",
    "\n",
    ":::\n"
   ]
  },
  {
   "cell_type": "markdown",
   "id": "c30be2ef-1d67-41bc-ac54-9fc674c4e66f",
   "metadata": {
    "editable": true,
    "slideshow": {
     "slide_type": ""
    },
    "tags": []
   },
   "source": [
    "Make sure to set up your environment using the instructions. Only continue once you've launched JupyterLab on your own computer. "
   ]
  },
  {
   "cell_type": "markdown",
   "id": "06fe28cf-b88f-4b60-845c-28eb4b120e7b",
   "metadata": {
    "editable": true,
    "slideshow": {
     "slide_type": ""
    },
    "tags": []
   },
   "source": [
    ":::{important} Continue here!\n",
    "\n",
    "Once you've run all the steps above and have your cloned version of the workspace, you can continue.\n",
    "\n",
    ":::\n"
   ]
  },
  {
   "cell_type": "markdown",
   "id": "cbba930a-b536-4b75-8100-471716151df0",
   "metadata": {},
   "source": [
    "The code below will give you an updated \"front page\" which will prepare you to have a summary of what you've learned in your own GitHub repo."
   ]
  },
  {
   "cell_type": "markdown",
   "id": "13a52760-b1fd-4ad5-a825-05cbe01a606b",
   "metadata": {
    "editable": true,
    "slideshow": {
     "slide_type": ""
    },
    "tags": []
   },
   "source": [
    ":::{attention} `Shift` + `Enter`\n",
    "Remember that you can run code and skip to the next block in the notebook by hitting `Shift` + `Enter`. You can \n",
    "also click inside a cell and hit the ▶️ button at the top of the notebook to run the code in that cell. "
   ]
  },
  {
   "cell_type": "code",
   "execution_count": null,
   "id": "5069f495-ce7e-4221-aa28-53f2ad3455a8",
   "metadata": {
    "editable": false,
    "slideshow": {
     "slide_type": ""
    },
    "tags": []
   },
   "outputs": [],
   "source": [
    "# Run this code with shift + enter\n",
    "%run -i ./utils/setup_utils.py #import helper functions \n",
    "output, parent_directory = helpers.get_overview() #locate directory\n",
    "\n",
    "helpers.switch_readme_files(parent_directory) #switch README.md files"
   ]
  },
  {
   "cell_type": "markdown",
   "id": "1f041bed-976b-4435-b42d-33f977f44c46",
   "metadata": {},
   "source": [
    "**Hit save!**"
   ]
  },
  {
   "cell_type": "markdown",
   "id": "9eab24df-9cbf-441b-b1e3-ff6b2fb09d87",
   "metadata": {},
   "source": [
    "### Step-by-Step Guide Using Jupyter Notebook\n",
    "\n",
    "1. **Create a New Repository on GitHub**:\n",
    "   - Go to [GitHub](https://github.com/) and sign in to your account.\n",
    "   - Click on the \"+\" icon in the top-right corner and select \"New repository\".\n",
    "   - Fill in the repository name and description, and choose the visibility (public or private).\n",
    "   - Do not initialize the repository with a README, .gitignore, or license, as these will conflict with your local repository.\n",
    "   - Click \"Create repository\".\n",
    "   - You will be taken to the next page which shows you the URL of your new repository. Copy this URL."
   ]
  },
  {
   "cell_type": "markdown",
   "id": "4f569c52-6aa0-4095-83fc-09d6f4ffe7c2",
   "metadata": {
    "editable": true,
    "slideshow": {
     "slide_type": ""
    },
    "tags": []
   },
   "source": [
    "2. **Add the New Remote and Push Changes**:\n",
    "   \n",
    "   You should already be in your version of JupyterLab with this notebook.\n",
    "   Check to make sure you are:"
   ]
  },
  {
   "cell_type": "code",
   "execution_count": null,
   "id": "d6490000-483b-4c7c-ac73-ed6e1d110a94",
   "metadata": {
    "editable": false,
    "slideshow": {
     "slide_type": ""
    },
    "tags": []
   },
   "outputs": [],
   "source": [
    "# This runs a command to print your working directory.\n",
    "%pwd"
   ]
  },
  {
   "cell_type": "markdown",
   "id": "4a7b0ff6-5367-4c12-b58a-37119301141b",
   "metadata": {
    "editable": true,
    "slideshow": {
     "slide_type": ""
    },
    "tags": []
   },
   "source": [
    "If you followed the instructions above, you should see something like `/Users/yourname/GitHub/ai-data-analysis-course`. \n",
    "\n",
    "If not, follow the instructions below:"
   ]
  },
  {
   "cell_type": "markdown",
   "id": "77324987-3b92-444a-a506-4771459b635b",
   "metadata": {
    "editable": true,
    "slideshow": {
     "slide_type": ""
    },
    "tags": []
   },
   "source": [
    "   - Open a terminal in JupyterLab (File > New > Terminal) or any using any other command line interface.\n",
    "   - Navigate to the directory of your cloned repository with the `cd` command:\n",
    "  "
   ]
  },
  {
   "cell_type": "code",
   "execution_count": null,
   "id": "5da778e9-f759-40be-8c48-1ba9e7c6d281",
   "metadata": {
    "editable": true,
    "slideshow": {
     "slide_type": ""
    },
    "tags": []
   },
   "outputs": [],
   "source": [
    "# Edit this before running it!\n",
    "%cd path/to/your/cloned/repository"
   ]
  },
  {
   "cell_type": "markdown",
   "id": "82e4044f-515f-43a1-a29f-49867ce38525",
   "metadata": {},
   "source": [
    "3. **Check the Current Status of the Repository**:\n",
    "\n",
    "   You should have updates to it since you saved a new README.md file."
   ]
  },
  {
   "cell_type": "code",
   "execution_count": null,
   "id": "bd4971c2-f557-4e67-a6ba-89d25506cd5e",
   "metadata": {
    "editable": false,
    "slideshow": {
     "slide_type": ""
    },
    "tags": []
   },
   "outputs": [],
   "source": [
    "!git status"
   ]
  },
  {
   "cell_type": "markdown",
   "id": "5538cb11-2378-49be-a94b-95cd5e0ecc0e",
   "metadata": {
    "editable": true,
    "slideshow": {
     "slide_type": ""
    },
    "tags": []
   },
   "source": [
    "4. **Add All Changes to the Repository**:"
   ]
  },
  {
   "cell_type": "code",
   "execution_count": null,
   "id": "e2cd38d0-e0a4-4fbe-88a2-bfc9e4b5eee3",
   "metadata": {
    "editable": false,
    "slideshow": {
     "slide_type": ""
    },
    "tags": []
   },
   "outputs": [],
   "source": [
    "!git add ."
   ]
  },
  {
   "cell_type": "markdown",
   "id": "e33bbeaf-1c39-485c-9ffe-3c15ca3a3f5d",
   "metadata": {
    "editable": true,
    "slideshow": {
     "slide_type": ""
    },
    "tags": []
   },
   "source": [
    "5. **Commit the Changes**:\n",
    "   \n",
    "   This is a generic comment, but you can edit it if you want!"
   ]
  },
  {
   "cell_type": "code",
   "execution_count": null,
   "id": "6b286cf5-2dbf-486b-b81c-a30c64a96083",
   "metadata": {
    "editable": true,
    "slideshow": {
     "slide_type": ""
    },
    "tags": []
   },
   "outputs": [],
   "source": [
    "# You can edit the message but it should run like this as well if you are in the correct directory\n",
    "!git commit -m \"Initial commit of my version of the notebook repository\""
   ]
  },
  {
   "cell_type": "markdown",
   "id": "05427b72-0b43-4b8a-975e-85bd05ef5a18",
   "metadata": {},
   "source": [
    "5. **Add the New Remote Repository**:\n",
    "\n",
    "   Make sure you edit the code below to enter the correct path. It should be your GitHub username and your repository name."
   ]
  },
  {
   "cell_type": "code",
   "execution_count": null,
   "id": "a22e655d-84b1-4344-8345-ad28dc4f157e",
   "metadata": {},
   "outputs": [],
   "source": [
    "# Edit this before you run this code!\n",
    "!git remote add origin https://github.com/yourusername/new-repository.git"
   ]
  },
  {
   "cell_type": "markdown",
   "id": "15ae0197-c231-4c6e-ad19-7fc13a4725a0",
   "metadata": {},
   "source": [
    "7. **Push the Local Repository to the New GitHub Repository**:"
   ]
  },
  {
   "cell_type": "code",
   "execution_count": null,
   "id": "32e8b496-fa41-499b-97dd-98206e314b46",
   "metadata": {
    "editable": false,
    "slideshow": {
     "slide_type": ""
    },
    "tags": []
   },
   "outputs": [],
   "source": [
    "!git push -u origin main"
   ]
  },
  {
   "cell_type": "markdown",
   "id": "ce1ce519-d491-4b41-a203-0210b31eabe6",
   "metadata": {},
   "source": [
    ":::{important} Congratulations! 🎉\n",
    "\n",
    "You've got a new GitHub repo. Go check out the link and see your notebook with your learning insights recapping the course. \n",
    "\n",
    "This workspace is now stored and version controlled on your account, ready for you to use and practice whenever you want."
   ]
  }
 ],
 "metadata": {
  "kernelspec": {
   "display_name": "Python 3 (ipykernel)",
   "language": "python",
   "name": "python3"
  },
  "language_info": {
   "codemirror_mode": {
    "name": "ipython",
    "version": 3
   },
   "file_extension": ".py",
   "mimetype": "text/x-python",
   "name": "python",
   "nbconvert_exporter": "python",
   "pygments_lexer": "ipython3",
   "version": "3.10.14"
  },
  "widgets": {
   "application/vnd.jupyter.widget-state+json": {
    "state": {},
    "version_major": 2,
    "version_minor": 0
   }
  }
 },
 "nbformat": 4,
 "nbformat_minor": 5
}
